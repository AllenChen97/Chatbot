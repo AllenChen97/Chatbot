{
 "cells": [
  {
   "cell_type": "code",
   "execution_count": 323,
   "metadata": {},
   "outputs": [],
   "source": [
    "from flask import Flask, request, jsonify, redirect, url_for\n",
    "import Data_Validation_Functions as f\n",
    "import numpy as np,pandas as pd\n",
    "import time,requests\n",
    "import os,re\n",
    "\n",
    "import json,ast# ast包可以将字符串转换为有效字典\n",
    "import hashlib,base64,hmac\n",
    "import pymysql as m"
   ]
  },
  {
   "cell_type": "code",
   "execution_count": 127,
   "metadata": {},
   "outputs": [
    {
     "data": {
      "text/plain": [
       "'369a301aacdd35b6aca1bec06e8b4fd8'"
      ]
     },
     "execution_count": 127,
     "metadata": {},
     "output_type": "execute_result"
    }
   ],
   "source": [
    "#获取token\n",
    "url = 'https://oapi.dingtalk.com'\n",
    "param_dict = {\n",
    "    'appkey':\"dingivx2npvflqcop1ag\",\n",
    "    'appsecret': \"eLNrFcBcaE65Qn6GvFtRX1f8aJ8aHmFlpN93fZEEzbwM0ItFCpNBENSF3vGSLWDb\",\n",
    "}\n",
    "access_token = requests.get(url + '/gettoken',param_dict).json()['access_token']\n",
    "access_token"
   ]
  },
  {
   "cell_type": "markdown",
   "metadata": {},
   "source": [
    "# 一、直接调用在职员工的userlist借口（没用）"
   ]
  },
  {
   "cell_type": "code",
   "execution_count": 89,
   "metadata": {
    "scrolled": true
   },
   "outputs": [],
   "source": [
    "#查在职员工\n",
    "userid=[]\n",
    "try:\n",
    "    for i in range(1000):\n",
    "        param_dict = {\n",
    "            'access_token': access_token,\n",
    "            \"offset\":i,\n",
    "            \"size\":50,\n",
    "            \"status_list\":\"2,3,5,-1\"\n",
    "        #     'department_id': depart_id\n",
    "        }\n",
    "        result = requests.post(url + '/topapi/smartwork/hrm/employee/queryonjob',param_dict).json() #/auth/scopes\n",
    "        userid = userid + result['result']['data_list']\n",
    "except:\n",
    "    print('Finish')\n",
    "\n",
    "userid = pd.Series(userid).unique().tolist()"
   ]
  },
  {
   "cell_type": "code",
   "execution_count": 94,
   "metadata": {},
   "outputs": [
    {
     "data": {
      "text/plain": [
       "{'errcode': 400125,\n",
       " 'errmsg': '企业没有开通该微应用',\n",
       " 'success': False,\n",
       " 'request_id': 'o5g2g1sumtmt'}"
      ]
     },
     "execution_count": 94,
     "metadata": {},
     "output_type": "execute_result"
    }
   ],
   "source": [
    "param_dict = {\n",
    "    'access_token': access_token,\n",
    "    'agentid':'1066509961',\n",
    "    'userid_list':'302421125238151255'\n",
    "}\n",
    "requests.post(url + '/topapi/smartwork/hrm/employee/v2/list',param_dict).json()#topapi/smartwork/hrm/employee/list"
   ]
  },
  {
   "cell_type": "markdown",
   "metadata": {},
   "source": [
    "# 二、先找到部门list，再按部门查找所有员工userid，最后再得出工号对应关系"
   ]
  },
  {
   "cell_type": "code",
   "execution_count": 468,
   "metadata": {},
   "outputs": [],
   "source": [
    "class user_update:\n",
    "    def __init__(self):\n",
    "        self.appkey = \"dingivx2npvflqcop1ag\"       #智能人事应用\n",
    "        self.appsecret = \"eLNrFcBcaE65Qn6GvFtRX1f8aJ8aHmFlpN93fZEEzbwM0ItFCpNBENSF3vGSLWDb\"\n",
    "        self.url = 'https://oapi.dingtalk.com'\n",
    "        self.access_token = ''\n",
    "        \n",
    "        self.dept_list = []\n",
    "        self.ding_list = []\n",
    "        self.workno_dict = {}\n",
    "    \n",
    "    def get_token(self):          ### 钉钉接口1：获取access_token\n",
    "        param_dict = {'appkey':self.appkey,'appsecret': self.appsecret}\n",
    "        self.access_token = requests.get(self.url + '/gettoken',param_dict).json()['access_token']\n",
    "\n",
    "    def get_dept(self):          ### 钉钉接口2：递归所有部门\n",
    "        param_dept = {'access_token': self.access_token}\n",
    "        self.dept_list = requests.get(self.url + '/department/list',param_dept).json()['department'] \n",
    "\n",
    "    def get_dingdingid(self):    ### 钉钉接口3：按部门查找所有员工\n",
    "        for dept_id in self.dept_list:\n",
    "            param_ding = {'access_token': self.access_token,'dept_id':dept_id['id']}\n",
    "            result = requests.get(self.url + '/topapi/user/listid',param_ding).json()['result']\n",
    "            self.ding_list = self.ding_list + result[\"userid_list\"]\n",
    "            \n",
    "    def get_workno(self):        ### 钉钉接口4：从员工花名册获取工号\n",
    "        param_dict = {\n",
    "            'access_token': self.access_token,\n",
    "            'agentid':'1066509961',\n",
    "            'userid_list':'',\n",
    "            'field_filter_list':'sys00-jobNumber' #工号的字段编号\n",
    "        }\n",
    "        for ding_id in update.ding_list:\n",
    "            try:\n",
    "                param_dict['userid_list'] = ding_id\n",
    "                staff_info = requests.post(update.url + '/topapi/smartwork/hrm/employee/v2/list',param_dict).json()\n",
    "                dingding_id = staff_info['result'][0]['userid']\n",
    "                workno = staff_info['result'][0]['field_data_list'][0]['field_value_list'][0].get('value')\n",
    "                update.workno_dict[dingding_id] = workno\n",
    "            except:\n",
    "                try:\n",
    "                    param_dict['userid_list'] = ding_id\n",
    "                    staff_info = requests.post(update.url + '/topapi/smartwork/hrm/employee/v2/list',param_dict).json()\n",
    "                    dingding_id = staff_info['result'][0]['userid']\n",
    "                    workno = staff_info['result'][0]['field_data_list'][0]['field_value_list'][0].get('value')\n",
    "                    update.workno_dict[dingding_id] = workno\n",
    "                except:\n",
    "                    pass\n",
    "            \n",
    "    def run(self):\n",
    "        try:\n",
    "            self.get_token()\n",
    "            self.get_dept()\n",
    "            self.get_dingdingid()\n",
    "        except:\n",
    "            print('API 1 Error')\n",
    "        try:\n",
    "            self.get_workno()\n",
    "        except:\n",
    "            print('API 2 Error')\n",
    "    \n",
    "class combine_sql:\n",
    "    def __init__(self,workno_dict):\n",
    "        self.workno_dict = workno_dict\n",
    "        self.user_info = None\n",
    "        self.users = None\n",
    "        self.table_merge = None\n",
    "\n",
    "        self.dtype = {}\n",
    "        self.sql_ck = ''\n",
    "    \n",
    "    def ueser_info_ck(self):          ## 1.Clickhouse-员工表取数\n",
    "        sql_ck = '''select staffid,name,workno,title,organid,deptid,status,is_operative,loaddate\n",
    "        ,(case when organid like '015807%' or organid like '0159010102%' or organid like '02620203%' or staffid='niejun'\n",
    "        or (title='总监' and type in (1,2)) then 1 else 0 end) is_allpermission\n",
    "        from dcp_dw_dmp.dim_staff_info where company=1 and status=1 '''\n",
    "        columns_ck = ['staffid','name','workno','title','organid','deptid','status','is_operative','loaddate','is_allpermission']\n",
    "        self.user_info = pd.DataFrame(f.query(sql_ck),columns=columns_ck)\n",
    "    \n",
    "    def merge(self):                 ## 2.将dingdingid 关联过去ck查到的员工信息\n",
    "        columns_ding = ['dingdingid','workno'] \n",
    "        self.users = pd.DataFrame(self.workno_dict.items(),columns=columns_ding)\n",
    "\n",
    "        self.table_merge = pd.merge(self.users,self.user_info,how='inner',on='workno').drop_duplicates()\n",
    "        self.table_merge = self.table_merge[['dingdingid', 'staffid', 'name', 'workno', 'title', 'organid', 'deptid',\n",
    "        'status','is_operative','is_allpermission', 'loaddate']]\n",
    "    \n",
    "    def dtype_determine(self):      ## 3.判断字段类型，用于拼接values\n",
    "        for column_sq,column in enumerate(self.table_merge.iloc[1,:]):\n",
    "            self.dtype[column_sq] = type(column)\n",
    "            \n",
    "    def values_combine(self):       ## 4.利用List的join方法拼接 values\n",
    "        insert_content=[]\n",
    "        for row in np.array(table_merge):\n",
    "            empty = []\n",
    "            for num,content in enumerate(row):\n",
    "                if dtype.get(num)==str and content is None:\n",
    "                    empty.append('\\'\\'')\n",
    "                elif dtype.get(num)==str:\n",
    "                    empty.append('\\''+content+'\\'')\n",
    "                else:\n",
    "                    empty.append(str(content))\n",
    "            insert_content.append(','.join(empty))\n",
    "\n",
    "        self.sql = r'insert into T_Robot_Dim_User_Backup values (' + r'),('.join(insert_content) + r');'\n",
    "    \n",
    "    def sql_exacute(self):          ## 5.执行插入语句\n",
    "        conn = m.connect(host = '172.16.92.96',port=3306,user = 'yonghongbi',password='yonghongbi123',database = 'BIDB')\n",
    "        cur = conn.cursor()\n",
    "        try:\n",
    "            cur.execute('truncate table T_Robot_Dim_User') \n",
    "            conn.commit() # 提交到数据库执行\n",
    "        except:\n",
    "            conn.rollback() # 如果发生错误则回滚\n",
    "        try:\n",
    "            cur.execute(self.sql)\n",
    "            conn.commit() \n",
    "        except:\n",
    "            conn.rollback() \n",
    "        conn.close()\n",
    "        \n",
    "    def run(self):\n",
    "        try:\n",
    "            self.ueser_info_ck()\n",
    "            self.merge()\n",
    "        except:\n",
    "            print('Clickhouse Query Error')\n",
    "            \n",
    "        try:\n",
    "            self.dtype_determine()\n",
    "            self.values_combine()\n",
    "        except:\n",
    "            print('Combine Error')\n",
    "            \n",
    "        try: \n",
    "            self.sql_exacute()\n",
    "        except: \n",
    "            print('Insert Error')"
   ]
  },
  {
   "cell_type": "code",
   "execution_count": 471,
   "metadata": {},
   "outputs": [
    {
     "name": "stdout",
     "output_type": "stream",
     "text": [
      "10.23\n"
     ]
    }
   ],
   "source": [
    "start_time1 = time.time()\n",
    "\n",
    "update = user_update()\n",
    "update.run()\n",
    "\n",
    "end_time1 = time.time()\n",
    "timer = round((end_time1-start_time1)/60,2)\n",
    "print(timer)"
   ]
  },
  {
   "cell_type": "code",
   "execution_count": 472,
   "metadata": {
    "scrolled": true
   },
   "outputs": [
    {
     "name": "stdout",
     "output_type": "stream",
     "text": [
      "0.01\n"
     ]
    }
   ],
   "source": [
    "start_time2 = time.time()\n",
    "\n",
    "combiner = combine_sql(update.workno_dict)\n",
    "combiner.run()\n",
    "\n",
    "end_time2 = time.time()\n",
    "timer = round((end_time2-start_time2)/60,2)\n",
    "print(timer)"
   ]
  },
  {
   "cell_type": "markdown",
   "metadata": {},
   "source": [
    "## 二、会话"
   ]
  },
  {
   "cell_type": "code",
   "execution_count": 154,
   "metadata": {},
   "outputs": [
    {
     "data": {
      "text/plain": [
       "{'errcode': 40014, 'errmsg': '不合法的access_token'}"
      ]
     },
     "execution_count": 154,
     "metadata": {},
     "output_type": "execute_result"
    }
   ],
   "source": [
    "param_dict = {\n",
    "    'access_token': access_token,\n",
    "    'sender':'1066509961',\n",
    "    'cid':'0b84ed96848a3a4b9c50a28b648a6103',\n",
    "    'msg':json.dumps({\"msgtype\":\"text\",\"text\":{\"content\":\"请提交日报。\"}})\n",
    "}\n",
    "\n",
    "requests.post(url + '/message/send_to_conversation',json.dumps(param_dict)).json()"
   ]
  }
 ],
 "metadata": {
  "kernelspec": {
   "display_name": "Python 3",
   "language": "python",
   "name": "python3"
  },
  "language_info": {
   "codemirror_mode": {
    "name": "ipython",
    "version": 3
   },
   "file_extension": ".py",
   "mimetype": "text/x-python",
   "name": "python",
   "nbconvert_exporter": "python",
   "pygments_lexer": "ipython3",
   "version": "3.8.3"
  }
 },
 "nbformat": 4,
 "nbformat_minor": 4
}
