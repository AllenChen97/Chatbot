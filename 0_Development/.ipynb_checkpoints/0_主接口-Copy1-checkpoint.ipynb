{
 "cells": [
  {
   "cell_type": "markdown",
   "metadata": {},
   "source": [
    "# 一、Outgoing基础配置"
   ]
  },
  {
   "cell_type": "code",
   "execution_count": 2,
   "metadata": {},
   "outputs": [],
   "source": [
    "from flask import Flask, request, jsonify, redirect, url_for\n",
    "import Data_Validation_Functions as f\n",
    "import numpy as np,pandas as pd\n",
    "import time,requests\n",
    "import os,re\n",
    "\n",
    "import json,ast# ast包可以将字符串转换为有效字典\n",
    "import hashlib,base64,hmac\n",
    "import pymysql as m"
   ]
  },
  {
   "cell_type": "markdown",
   "metadata": {},
   "source": [
    "# V 0.1"
   ]
  },
  {
   "cell_type": "code",
   "execution_count": null,
   "metadata": {
    "scrolled": true
   },
   "outputs": [
    {
     "name": "stdout",
     "output_type": "stream",
     "text": [
      " * Serving Flask app \"__main__\" (lazy loading)\n",
      " * Environment: production\n",
      "\u001b[31m   WARNING: This is a development server. Do not use it in a production deployment.\u001b[0m\n",
      "\u001b[2m   Use a production WSGI server instead.\u001b[0m\n",
      " * Debug mode: off\n"
     ]
    },
    {
     "name": "stderr",
     "output_type": "stream",
     "text": [
      " * Running on http://0.0.0.0:28082/ (Press CTRL+C to quit)\n"
     ]
    },
    {
     "name": "stdout",
     "output_type": "stream",
     "text": [
      "{'content': '业绩', 'permission': '026101', 'groupid': 'cid0Eayhj/zuAuY+/7BAfMFeg=='}\n"
     ]
    },
    {
     "name": "stderr",
     "output_type": "stream",
     "text": [
      "203.119.135.119 - - [16/Dec/2020 17:14:36] \"\u001b[37mPOST / HTTP/1.1\u001b[0m\" 200 -\n"
     ]
    },
    {
     "name": "stdout",
     "output_type": "stream",
     "text": [
      "跳转到业绩模糊查询\n",
      "{'content': 'D28体重管理服务部二部 业绩', 'permission': '026101', 'groupid': 'cid0Eayhj/zuAuY+/7BAfMFeg=='}\n"
     ]
    },
    {
     "name": "stderr",
     "output_type": "stream",
     "text": [
      "203.119.132.154 - - [16/Dec/2020 17:14:55] \"\u001b[37mPOST / HTTP/1.1\u001b[0m\" 200 -\n"
     ]
    },
    {
     "name": "stdout",
     "output_type": "stream",
     "text": [
      "跳转到业绩模糊查询\n"
     ]
    }
   ],
   "source": [
    "app = Flask(__name__)# Flask构造函数使用当前模块（__name __）的名称作为参数。\n",
    "\n",
    "# route()函数是一个装饰器，它告诉应用程序哪个URL应该调用相关的函数。\n",
    "@app.route('/', methods=['POST'])\n",
    "def index():\n",
    "#1.读取用户发送的内容\n",
    "    body_data = request.get_json()\n",
    "    content = body_data['text']['content']\n",
    "    if content[0] == ' ':\n",
    "        content = content[1:]  \n",
    "#     print(body_data)\n",
    "    \n",
    "    web_hook,is_production = webhook(body_data['conversationId'])\n",
    "    try:\n",
    "        robot_main = f.Robot(test=True)\n",
    "        robot_main.webhook = web_hook   #从BIDB查询 webhook\n",
    "        robot_main.secret = ''\n",
    "        robot_main.url = robot_main.get_url()\n",
    "        is_group_establish = 0\n",
    "    except:\n",
    "        group_establish(body_data)  #新建的群就自动把用户发来的webhook加到数据库里\n",
    "        robot_main = f.Robot(test=True)\n",
    "        robot_main.webhook = web_hook   \n",
    "        robot_main.secret = ''\n",
    "        robot_main.url = robot_main.get_url()\n",
    "        is_group_establish = 1  #本次访问，是否建群\n",
    "        \n",
    "#2.权限查询\n",
    "    user_info = check_permission(body_data['senderStaffId'])\n",
    "    if user_info['是否全权限']=='1' or user_info['是否运营系']=='1':\n",
    "        post = {'content':content,'permission':'All','groupid':body_data['conversationId']}\n",
    "    else:  #业务系\n",
    "        post = {'content':content,'permission':user_info['部门编号'],'groupid':body_data['conversationId']}        \n",
    "\n",
    "    print(post)\n",
    "\n",
    "#3.分发需求\n",
    "    port_fuzzy = {0:'5001',1:'28083'}\n",
    "    port_struct = {0:'5002',1:'28084'}\n",
    "    try:\n",
    "        if is_data(content)==1 and len(split(content))>=3 and fuzzy(content)=='规整':\n",
    "            requests.post('http://0.0.0.0:%s'%(port_struct[is_production]), post)\n",
    "            print('跳转到业绩规整查询')\n",
    "            return ''\n",
    "        elif is_data(content)==1 and is_group_establish == 0 :\n",
    "            requests.post('http://0.0.0.0:%s'%(port_fuzzy[is_production]), post)\n",
    "            print('跳转到业绩模糊查询')\n",
    "            return ''\n",
    "        elif is_group_establish == 1:\n",
    "            msg = '恭喜用户建群成功，请问小数有什么可以帮到您~'\n",
    "            robot_main.send_msg( msg )\n",
    "            return ''\n",
    "        else:\n",
    "            msg = '抱歉，主人 小数还不知道怎么回答[拜托]'\n",
    "            robot_main.send_msg( msg )\n",
    "            print('分发失败，检查分发条件1')\n",
    "            return ''\n",
    "    except:\n",
    "        print('分发失败，检查分发条件2')\n",
    "        return ''\n",
    "\n",
    "if __name__ == '__main__':\n",
    "    app.run(host='0.0.0.0',port='28082')"
   ]
  },
  {
   "cell_type": "code",
   "execution_count": 49,
   "metadata": {},
   "outputs": [
    {
     "name": "stdout",
     "output_type": "stream",
     "text": [
      "分发失败，检查分发条件1\n"
     ]
    }
   ],
   "source": [
    "content = 'D28体重管理服务部二部六团业绩'\n",
    "if is_data(content)==1 and fuzzy(content)=='模糊':\n",
    "#     requests.post('http://0.0.0.0:%s'%(port_fuzzy[is_production]), post)\n",
    "    print('跳转到业绩模糊查询')\n",
    "\n",
    "elif is_data(content)==1 and len(split(content))>=3 and fuzzy(content)=='规整':\n",
    "#     requests.post('http://0.0.0.0:%s'%(port_struct[is_production]), post)\n",
    "    print('跳转到业绩规整查询')\n",
    "\n",
    "else:\n",
    "    print('分发失败，检查分发条件1')\n"
   ]
  },
  {
   "cell_type": "code",
   "execution_count": 39,
   "metadata": {},
   "outputs": [],
   "source": [
    "def group_establish(body_data):\n",
    "    groupid = body_data['conversationId']\n",
    "    groupname = body_data['conversationTitle']\n",
    "    creater = body_data['senderStaffId']\n",
    "    webhook = body_data['text']['content'].strip()\n",
    "\n",
    "    conn = m.connect(host = '172.16.92.96',port=3306,user = 'yonghongbi',password='yonghongbi123',database = 'BIDB')\n",
    "    sql = \"\"\"insert into T_Robot_Dim_Group values\n",
    "            ('%s','%s',1,'%s',now(),'%s','%s','',now()) \"\"\"%(groupid,groupname,creater,creater,webhook)\n",
    "    cur = conn.cursor()\n",
    "    try:\n",
    "        cur.execute(sql) # 执行sql语句\n",
    "        conn.commit() # 提交到数据库执行\n",
    "    except:\n",
    "        conn.rollback() # 如果发生错误则回滚\n",
    "    conn.close()\n",
    "    return ''\n",
    "\n",
    "def check_permission(dingdingid):\n",
    "    conn = m.connect(host = '172.16.92.96',port=3306,user = 'yonghongbi',password='yonghongbi123',database = 'BIDB')\n",
    "    name=['钉钉ID','姓名','职级','部门编号','是否运营系','是否全权限']\n",
    "    sql = \"\"\"select dingdingid,name,level,organid,is_operative,is_allpermission from T_Robot_User where dingdingid = '%s' \"\"\"%(dingdingid)\n",
    "    cur = conn.cursor()\n",
    "    cur.execute(sql)\n",
    "    result = cur.fetchall()[0]\n",
    "    \n",
    "    conn.close()\n",
    "    return dict(zip(name,result))\n",
    "\n",
    "def webhook(groupid):\n",
    "    conn = m.connect(host = '172.16.92.96',port=3306,user = 'yonghongbi',password='yonghongbi123',database = 'BIDB')\n",
    "    sql = \"\"\"select webhook,is_production from T_Robot_Dim_Group where groupid = '%s' \"\"\"%(groupid)\n",
    "    cur = conn.cursor()\n",
    "    cur.execute(sql)\n",
    "    result = cur.fetchall()[0]\n",
    "    \n",
    "    conn.close()\n",
    "    return result\n",
    "\n",
    "def fuzzy(content):\n",
    "    if content.find('今')==-1 and content.find('本')==-1 and content.find('这')==-1 and content.find('昨')==-1 and content.find('上')==-1 :\n",
    "        return '规整'\n",
    "    else:\n",
    "        return '模糊'\n",
    "def is_data(content):\n",
    "    if content.find('业绩')>=0 or content.find('客')>=0 or content.find('粉')>=0:\n",
    "        return 1\n",
    "    else:\n",
    "        return 0\n",
    "def split(content):\n",
    "    list = content.split(' ')\n",
    "    for i in range(list.count('')):\n",
    "        list.remove('')\n",
    "    return list"
   ]
  },
  {
   "cell_type": "markdown",
   "metadata": {},
   "source": [
    "### POST测试"
   ]
  },
  {
   "cell_type": "code",
   "execution_count": 4,
   "metadata": {
    "scrolled": true
   },
   "outputs": [
    {
     "data": {
      "text/plain": [
       "<Response [200]>"
      ]
     },
     "execution_count": 4,
     "metadata": {},
     "output_type": "execute_result"
    }
   ],
   "source": [
    "content = '体管一营上个月业绩'\n",
    "post = {'content':content,'permission':1,'groupid':'cid+4rZKiqKvv/Luxw1yrENyw=='}    \n",
    "requests.post('http://0.0.0.0:5001',post)"
   ]
  },
  {
   "cell_type": "markdown",
   "metadata": {},
   "source": [
    "# 三、功能实现"
   ]
  },
  {
   "cell_type": "code",
   "execution_count": null,
   "metadata": {},
   "outputs": [],
   "source": [
    "# from flask import Flask, request, jsonify\n",
    "\n",
    "\n",
    "\n",
    "# lgoin_session = requests.session()\n",
    "# wiki_url = 'https://*'\n",
    "# user_agent = 'Mozilla/5.0 (Windows NT 10.0; Win64; x64) AppleWebKit/537.36 (KHTML, like Gecko) Chrome/83.0.4103.116 Safari/537.36'\n",
    "# header_wiki = {\n",
    "#     'referfer': 'https://*',\n",
    "#     'user-agent': user_agent\n",
    "# }\n",
    "\n",
    "# app = Flask(__name__)# Flask构造函数使用当前模块（__name __）的名称作为参数。\n",
    "# # route()函数是一个装饰器，它告诉应用程序哪个URL应该调用相关的函数。\n",
    "# @app.route('/data', methods=['GET', 'POST'])\n",
    "# def index():\n",
    "# # 获取headers数据\n",
    "#     headers_data = request.headers\n",
    "# # 获取body数据\n",
    "#     body_data = request.get_json()\n",
    "    \n",
    "#     wiki_sl = wiki(headers_data,body_data)\n",
    "#     wiki_sl.run()\n",
    "\n",
    "#     return ''\n",
    "\n",
    "# class wiki:\n",
    "\n",
    "#     def __init__(self,ss,bb):\n",
    "#         self.username='******'\n",
    "#         self.password='******'\n",
    "#         self.post_sign=''\n",
    "#         self.post_time=''\n",
    "#         self.post_man=''\n",
    "#         self.post_msg=''\n",
    "#         self.send_msg=''\n",
    "#         self.time_now=''\n",
    "#         self.count_sing=''\n",
    "#         self.message=''\n",
    "#         self.senddata={}\n",
    "#         self.headers_data=ss\n",
    "#         self.body_data=bb\n",
    "\n",
    "#     def getPost(self): # 这个方法是为了把需要的数据剥离出来\n",
    "#         # post_sign=self.post_sign\n",
    "#         # post_time=self.post_time\n",
    "#         # post_man=self.post_man\n",
    "#         # post_msg=self.post_msg\n",
    "#         self.post_sign = self.headers_data\n",
    "#         self.post_sign = self.headers_data['Sign'].lstrip()\n",
    "#         self.post_time = self.headers_data['Timestamp'].lstrip()\n",
    "#         self.post_man = self.body_data['senderNick'].lstrip()\n",
    "#         self.post_msg = self.body_data['text']['content'].strip()\n",
    "\n",
    "#     def initKey(self):  # 这个方法是用来提供钉钉验证的时间戳和sign\n",
    "#         self.time_now = str(round(time.time()) * 1000)\n",
    "#         app_secret = '钉钉开放平台机器人基础信息的AppSecret'\n",
    "\n",
    "#         app_secret_enc = app_secret.encode('utf-8')\n",
    "#         string_to_sign = '{}\\n{}'.format(self.post_time, app_secret)\n",
    "#         string_to_sign_enc = string_to_sign.encode('utf-8')\n",
    "#         hmac_code = hmac.new(app_secret_enc, string_to_sign_enc, digestmod=hashlib.sha256).digest()\n",
    "#         self.count_sing = base64.b64encode(hmac_code).decode('utf-8')\n",
    "\n",
    "#     def login_wiki(self):  # 这个方法是用来登录内网的wiki进行查询，并把我需要的数据剥离出来\n",
    "#         post_data = {\n",
    "#             'os_username': self.username,\n",
    "#             'os_password': self.password,\n",
    "#             'login': '登陆',\n",
    "#             'os_destination': '/ pages / viewpage.action?pageId = 6620637os_destination: /pages/viewpage.action?pageId=6620637'\n",
    "#         }\n",
    "#  # 使用requests的session数据进行post登陆\n",
    "#         response_wiki = lgoin_session.post(wiki_url, headers=header_wiki, data=post_data)\n",
    "\n",
    "#         search_url = 'https://*' + self.post_msg + '*'\n",
    "        \n",
    "#         search_html = lgoin_session.get(search_url, headers=header_wiki)\n",
    "#         search_dictionary = ast.literal_eval(search_html.text)\n",
    "#         list = search_dictionary['results']\n",
    "\n",
    "#         if list == []:\n",
    "#             file_nothing = '没有查询到任何东西哦~'\n",
    "#             self.senddata = file_nothing\n",
    "#         else :\n",
    "#             for key_list in list:\n",
    "#                 list_word = key_list['title']\n",
    "#                 word_cear = '[标题]:' + re.sub('@|end|hl', '', list_word)\n",
    "\n",
    "#                 list_bodytext = key_list['bodyTextHighlights']\n",
    "#                 bodytext_cear ='[内容]:' + re.sub('@|end|hl', '', list_bodytext)\n",
    "\n",
    "#                 list_url = key_list['url']\n",
    "#                 url_generate ='[链接]:' + 'https://*/' + list_url\n",
    "\n",
    "#                 send_data = str(word_cear)+'\\n'+str(bodytext_cear)+'\\n'+str(url_generate)\n",
    "#                 file_op = open('./data.txt','a')\n",
    "#                 file_wr = file_op.write(send_data+'\\n\\n')\n",
    "#                 file_opr = open('./data.txt','r')\n",
    "#                 file_read = file_opr.read()\n",
    "                \n",
    "#                 self.senddata= file_read # {'[标题]': word_cear, '[内容]': bodytext_cear, '[链接]': url_generate}\n",
    "\n",
    "#     def selectMsg(self):   # 这个方法为发送给钉钉的信息进行选择\n",
    "#         if self.post_msg == '':\n",
    "#             self.send_msg = '为空，无法查询'\n",
    "#             self.sendText()\n",
    "#         else:\n",
    "#             self.send_msg = self.senddata\n",
    "#             self.sendText()\n",
    "\n",
    "\n",
    "#     def sendText(self):  # 这个方法是钉钉机器人文档提供的文本模板，at不生效，不清楚为什么\n",
    "#         self.message = {\n",
    "#             \"msgtype\": \"text\",\n",
    "#             \"text\": {\n",
    "#                 \"content\": self.send_msg\n",
    "#             },\n",
    "#             \"at\": {\n",
    "#                 \"atMobiles\": [self.post_man],\n",
    "#                 \"isAtAll\": False\n",
    "#             }\n",
    "#         }\n",
    "#         # print(message)\n",
    "\n",
    "#     def sData(self):  # 进行验证判断，并发送机器人回复\n",
    "#         hook_token = '*'\n",
    "#         if (abs(int(float(self.post_time)) - int(float(self.time_now))) < 3600000 and self.post_sign == self.count_sing):\n",
    "#             webhook = 'https://oapi.dingtalk.com/robot/send?access_token=' + hook_token + '&timestamp=' + self.time_now + '&sign=' + self.count_sing\n",
    "#             header = {\n",
    "#                 \"Content-Type\": \"application/json\",\n",
    "#                 \"Charset\": \"UTF-8\"\n",
    "#             }\n",
    "#             message_json = json.dumps(self.message)\n",
    "\n",
    "#             info = requests.post(url=webhook, headers=header, data=message_json)\n",
    "#             os.remove('./data.txt')\n",
    "#             # print(json.loads(info.text))\n",
    "#         else:\n",
    "#             print(\"Warning:Not DingDing's post\")\n",
    "\n",
    "\n",
    "#     def run(self):  # 方法启动顺序\n",
    "#         self.getPost()\n",
    "#         self.initKey()\n",
    "#         self.login_wiki()\n",
    "#         self.selectMsg()\n",
    "#         self.sendText()\n",
    "#         self.sData()\n",
    "\n",
    "# if __name__ == '__main__':\n",
    "\n",
    "#     app.run(port=***, debug=True)"
   ]
  }
 ],
 "metadata": {
  "kernelspec": {
   "display_name": "Python 3",
   "language": "python",
   "name": "python3"
  },
  "language_info": {
   "codemirror_mode": {
    "name": "ipython",
    "version": 3
   },
   "file_extension": ".py",
   "mimetype": "text/x-python",
   "name": "python",
   "nbconvert_exporter": "python",
   "pygments_lexer": "ipython3",
   "version": "3.8.3"
  }
 },
 "nbformat": 4,
 "nbformat_minor": 4
}
