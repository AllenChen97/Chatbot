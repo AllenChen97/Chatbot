{
 "cells": [
  {
   "cell_type": "code",
   "execution_count": 84,
   "metadata": {},
   "outputs": [],
   "source": [
    "from flask import Flask, request, jsonify, redirect, url_for\n",
    "import numpy as np,pandas as pd\n",
    "import requests\n",
    "import os,re,sys\n",
    "from dateutil.relativedelta import relativedelta\n",
    "import time,datetime,random\n",
    "# from DBUtils.PooledDB import PooledDB,SharedConnection\n",
    "import pymysql as m\n",
    "import uuid\n",
    "\n",
    "import json,ast# ast包可以将字符串转换为有效字典\n",
    "import hashlib,base64,hmac\n",
    "\n",
    "sys.path.append('..')\n",
    "import Data_Validation_Functions as f"
   ]
  },
  {
   "cell_type": "code",
   "execution_count": 85,
   "metadata": {},
   "outputs": [],
   "source": [
    "#获取webhook来定义机器人\n",
    "def webhook(groupid):\n",
    "    conn = m.connect(host = '172.16.92.96',port=3306,user = 'yonghongbi',password='yonghongbi123',database = 'BIDB')\n",
    "    sql = \"\"\"select webhook from T_Robot_Dim_Group where groupid = '%s' \"\"\"%(groupid)\n",
    "    cur = conn.cursor()\n",
    "    cur.execute(sql)\n",
    "    result = cur.fetchall()[0][0]\n",
    "    conn.close()\n",
    "    return result\n",
    "\n",
    "class process:# 规整需求的关键解析函数！！\n",
    "    def __init__(self,content):\n",
    "        self.content = content\n",
    "        self.require = {}\n",
    "        \n",
    "        self.depart_select = ''\n",
    "        self.departid_where = ''\n",
    "        self.ctype = ''\n",
    "        \n",
    "        self.date_select = '' \n",
    "        self.date_groupby = ''\n",
    "        self.date_orderby = ''\n",
    "        \n",
    "        self.index = {'下单业绩':'LSF0001','签收业绩':'LSF0002','外部投诉次数':'LSS000130',\n",
    "     '派发新客数':'LSZ00038','下单新客数':'LSZ000179','签收新客数':'LSZ000180',}\n",
    "    # '总进粉':'LSF0001','下单客户数':'LSF0001','总进粉成交率':'LSF0002'\n",
    "\n",
    "        self.sql = ''\n",
    "        self.result_str = ''\n",
    "        \n",
    "\n",
    "    # 时间转格式，简化代码\n",
    "    def datetime_format(self, date ,from_format, to_format): \n",
    "        return datetime.datetime.strftime( datetime.datetime.strptime(date,from_format),to_format )\n",
    "\n",
    "    def date_sql(self):\n",
    "    # 时间清洗\n",
    "        if len(self.require['时间'])>=8:\n",
    "            fmat = '%Y%m%d'\n",
    "        elif len(self.require['时间'])>=6:    \n",
    "            fmat = '%Y%m'\n",
    "        elif len(self.require['时间'])>=4:    \n",
    "            fmat = '%Y'\n",
    "        self.require['时间'] = self.datetime_format(self.require['时间'],fmat,fmat)\n",
    "\n",
    "        dtype_list = {4:1, 6:2, 8:3} # 日期长度:dtype\n",
    "        dtype = dtype_list[ len(self.require['时间']) ]\n",
    "\n",
    "    # ①where 的日期条件\n",
    "        config_list = { 1:['4','%Y','%Y'], 2:['7','%Y%m','%Y-%m'], 3:['10','%Y%m%d','%Y-%m-%d'] } #dtype:config\n",
    "        substr, from_format, to_format = config_list[dtype]\n",
    "        #substring取的位置，从xx日期格式，转化xx成日期格式\n",
    "\n",
    "        strftime = self.datetime_format(self.require['时间'], from_format, to_format)\n",
    "        self.date_where = 'substring(stadate,1,%s) =\\''%(substr) + strftime +'\\''\n",
    "\n",
    "    # ②select 的日期字段\n",
    "        if type(self.require.get('时间粒度'))==str:   #如果有指定粒度\n",
    "            dtype_cp = self.dtype_compare(self.require)\n",
    "            if dtype_cp > dtype:                 #如果指定粒度比原来的小\n",
    "                substr_list = {2:'7', 3:'10'}      \n",
    "                self.date_select  = 'substring(stadate,1,%s) d,'%(substr_list[dtype_cp])\n",
    "                self.date_groupby = self.date_select[:23] + ','\n",
    "                self.date_orderby = 'd,'\n",
    "            else:\n",
    "                self.date_select  = ''\n",
    "                self.date_groupby = ''\n",
    "                self.date_orderby = ''\n",
    "        else:\n",
    "            self.date_select  = ''\n",
    "            self.date_groupby = ''\n",
    "            self.date_orderby = ''\n",
    "        \n",
    "    def sql_combine(self):\n",
    "                                                                #(日期粒度，部门粒度) \n",
    "        sql_head = '''select %s %s sum(indresult) '''%(self.date_select,self.depart_select)\n",
    "\n",
    "        sql_where = '''from dcp_dw_rpt.ind_result_day\n",
    "        where ctype in ( %d ) and indcode ='%s' and %s and %s and type in (toInt64(1),toInt64(2)) \n",
    "        '''%(self.ctype, self.indcode, self.depart_where, self.date_where)\n",
    "          # (部门粒度, 指标编号, 部门条件, 日期条件)   \n",
    "\n",
    "        sql_orderby = '''order by %s %s '''%(\n",
    "            self.date_orderby, self.depart_select[:len(self.depart_select)-1]) #(日期粒度，部门粒度)\n",
    "        \n",
    "        self.sql = sql_head + sql_where + sql_groupby + sql_orderby"
   ]
  },
  {
   "cell_type": "markdown",
   "metadata": {},
   "source": [
    "# 订单明细"
   ]
  },
  {
   "cell_type": "code",
   "execution_count": 87,
   "metadata": {},
   "outputs": [
    {
     "name": "stdout",
     "output_type": "stream",
     "text": [
      " * Serving Flask app \"__main__\" (lazy loading)\n",
      " * Environment: production\n",
      "\u001b[31m   WARNING: This is a development server. Do not use it in a production deployment.\u001b[0m\n",
      "\u001b[2m   Use a production WSGI server instead.\u001b[0m\n",
      " * Debug mode: off\n"
     ]
    },
    {
     "name": "stderr",
     "output_type": "stream",
     "text": [
      "INFO:werkzeug: * Running on http://0.0.0.0:28085/ (Press CTRL+C to quit)\n",
      "ERROR:__main__:Exception on / [POST]\n",
      "Traceback (most recent call last):\n",
      "  File \"/opt/anaconda3/lib/python3.8/site-packages/flask/app.py\", line 2447, in wsgi_app\n",
      "    response = self.full_dispatch_request()\n",
      "  File \"/opt/anaconda3/lib/python3.8/site-packages/flask/app.py\", line 1952, in full_dispatch_request\n",
      "    rv = self.handle_user_exception(e)\n",
      "  File \"/opt/anaconda3/lib/python3.8/site-packages/flask/app.py\", line 1821, in handle_user_exception\n",
      "    reraise(exc_type, exc_value, tb)\n",
      "  File \"/opt/anaconda3/lib/python3.8/site-packages/flask/_compat.py\", line 39, in reraise\n",
      "    raise value\n",
      "  File \"/opt/anaconda3/lib/python3.8/site-packages/flask/app.py\", line 1950, in full_dispatch_request\n",
      "    rv = self.dispatch_request()\n",
      "  File \"/opt/anaconda3/lib/python3.8/site-packages/flask/app.py\", line 1936, in dispatch_request\n",
      "    return self.view_functions[rule.endpoint](**req.view_args)\n",
      "  File \"<ipython-input-87-a62217d1012a>\", line 16, in performance\n",
      "    require.content_split()\n",
      "AttributeError: 'process' object has no attribute 'content_split'\n",
      "INFO:werkzeug:127.0.0.1 - - [26/Feb/2021 16:00:40] \"\u001b[35m\u001b[1mPOST / HTTP/1.1\u001b[0m\" 500 -\n"
     ]
    }
   ],
   "source": [
    "app = Flask(__name__)# Flask构造函数使用当前模块（__name __）的名称作为参数。\n",
    "h = f.Handler()\n",
    "\n",
    "# route()函数是一个装饰器，它告诉应用程序哪个URL应该调用相关的函数。\n",
    "@app.route('/', methods=['POST'])\n",
    "############################################################################## 业绩统计数据\n",
    "def performance():\n",
    "    body_data = request.form.to_dict()\n",
    "    \n",
    "    robot = f.Robot(test=True)\n",
    "    robot.webhook = webhook(body_data['groupid'])\n",
    "    robot.secret = ''\n",
    "    robot.url = robot.get_url()\n",
    "\n",
    "    require = process(body_data['content']) #定义\n",
    "    require.content_split()\n",
    "    print(require.require)\n",
    "    \n",
    "    #如果nums=3 就算总数，nums=4就是按部门/时间 汇总，nums=5就按照时间+部门汇总\n",
    "    \n",
    "########################################################### 解析需求\n",
    "###########################1.计算查询的部门\n",
    "    try:\n",
    "        require.dept_sql()  #输入需求和指定部门的ctype，比较后拼接出sql内容\n",
    "        print(require.depart_select, require.depart_where)\n",
    "    except:\n",
    "        robot.send_msg(h.dept_e())\n",
    "        return ''\n",
    "\n",
    "    ###########################2.时间条件\n",
    "    try:\n",
    "        require.date_sql()  #字段命名规范！！\n",
    "        print(require.date_select, require.date_groupby, require.date_orderby)\n",
    "    except:\n",
    "        robot.send_msg(h.date_e())\n",
    "        return ''\n",
    "\n",
    "########################################################### 拼接sql \n",
    "    try:\n",
    "        require.index_match()\n",
    "        require.sql_combine()\n",
    "        print(require.sql)\n",
    "    except:\n",
    "        print('sql拼接问题')     \n",
    "        emoji_sad = ['[可怜]','[一团乱麻]','[冷笑]']\n",
    "        num1 = random.randint(0, len(emoji_sad)-1)\n",
    "        robot.send_msg(h.sql_combine_e())\n",
    "        return ''\n",
    "        \n",
    "########################################################### 拼接结果并发送\n",
    "#     emoji_fun =['[推眼镜]','[鲜花]','[送花花]','[吃瓜]','[专注]','[微笑]']\n",
    "#     num2 = random.randint(0,len(emoji_fun)-1)\n",
    "#     emoji = emoji_fun[num2] + ' '\n",
    "#     msg = emoji+require['部门']+' '+ date[26:-1]+'的下单业绩为'+index_value[0]+'，签收业绩'+index_value[1]\n",
    "    try:\n",
    "        result = f.query(require.sql)\n",
    "        result_str = ''\n",
    "        for i in result:\n",
    "        #将decimal的指标值转化成字符串\n",
    "            lst = ['' if j==None else j for j in i] #转换成列表方便拼接文本，顺面将None转换成''\n",
    "            lst.append(str(int(i[-1])))\n",
    "            lst.pop(-2)\n",
    "            \n",
    "            result_str = result_str + ' | '.join(lst) + '\\n'\n",
    "        if result_str !='':\n",
    "            robot.send_msg(result_str)\n",
    "        else:\n",
    "            msg_query_e = h.sql_query_e_a() + require.date_where[26:-1] + h.sql_query_e_b()\n",
    "            robot.send_msg(msg_query_e)\n",
    "        return ''\n",
    "    \n",
    "    except:\n",
    "        print('sql查询问题')     \n",
    "        msg_query_e = h.sql_query_e_a() + require.date_where[26:-1] + h.sql_query_e_b()\n",
    "        robot.send_msg(msg_query_e)\n",
    "        return ''\n",
    "    \n",
    "if __name__ == '__main__':\n",
    "    app.run(host='0.0.0.0',port='28085')"
   ]
  },
  {
   "cell_type": "code",
   "execution_count": 88,
   "metadata": {},
   "outputs": [],
   "source": [
    "class detail:\n",
    "    def __init__(self):\n",
    "        self.order_date = ''\n",
    "        self.order_no=''\n",
    "        self.share_orgid = '' #'''and f.share_orgid like '%s' '''%('0261')\n",
    "        self.type = ''\n",
    "        self.share_staff = ''\n",
    "        \n",
    "        self.sql = ''\n",
    "        self.result = ''\n",
    "    def is_order(self):\n",
    "        sql = '''select 1 from dw_dmp.dm_fact_order \n",
    "        where company=toInt64(1) and amount>0 and is_shuadan=0 and order_no in ('%s');'''%(str(self.order_no))\n",
    "        is_od = len(f.query(sql))\n",
    "\n",
    "        if is_od: \n",
    "            self.order_no = '''and o.order_no in ('%s')'''%(self.order_no)\n",
    "        else: \n",
    "            self.order_no = ''\n",
    "\n",
    "    def sql_combine(self):\n",
    "        self.sql = '''\\\n",
    "            select d.departname,p.share_staff,o.cust_id,o.order_no,o.order_date\n",
    "            ,case when o.is_ship=toInt64(0) then '已下单未发货' when o.is_sign=toInt64(0) then '已发货未签收' else '发货未签收' end\n",
    "            ,sign_date,p.share_cash,o.order_type\n",
    "            from dw_dmp.dm_fact_order o\n",
    "                all inner join dw_dmp.dm_fact_performance p on o.order_no=p.order_no and p.model=toInt64(1) and o.is_shuadan=toInt64(0)\n",
    "                all inner join dcp_dw_dmp.dim_department_hierarchy d on p.share_orgid=d.organid\n",
    "            where o.company=toInt64(1) and p.share_cash>0 %(od)s  %(od_date)s  %(type)s  %(orgid)s  %(staff)s\n",
    "            order by o.order_date;\n",
    "            '''%{'od':self.order_no, 'od_date':self.order_date,\n",
    "                 'type':self.type, 'orgid':self.share_orgid, 'staff':self.share_staff }\n",
    "\n",
    "    def query(self):\n",
    "        self.result = f.query(self.sql)\n",
    "        "
   ]
  },
  {
   "cell_type": "code",
   "execution_count": 91,
   "metadata": {},
   "outputs": [
    {
     "name": "stdout",
     "output_type": "stream",
     "text": [
      "\n"
     ]
    }
   ],
   "source": [
    "d = detail()\n",
    "d.order_no = 'X201212TAOLOS3'\n",
    "d.is_order()\n",
    "d.sql_combine()\n",
    "# print(d.sql)\n",
    "\n",
    "f.query(sql)\n",
    "print(d.result)"
   ]
  },
  {
   "cell_type": "code",
   "execution_count": 94,
   "metadata": {},
   "outputs": [
    {
     "data": {
      "text/plain": [
       "''"
      ]
     },
     "execution_count": 94,
     "metadata": {},
     "output_type": "execute_result"
    }
   ],
   "source": [
    "select = ['团队','分享账号','客户ID','订单号','下单日期','是否签收','签收日期','分享金额','订单类型']\n",
    "empty = [' | '.join(select)]\n",
    "for i in d.result:\n",
    "    empty.append(' | '.join([str(j) for j in i]))\n",
    "    "
   ]
  },
  {
   "cell_type": "code",
   "execution_count": 82,
   "metadata": {},
   "outputs": [
    {
     "data": {
      "text/plain": [
       "{'errcode': 0, 'errmsg': 'ok'}"
      ]
     },
     "execution_count": 82,
     "metadata": {},
     "output_type": "execute_result"
    }
   ],
   "source": [
    "robot = f.Robot(test=True)\n",
    "robot.webhook = webhook('cid+4rZKiqKvv/Luxw1yrENyw==')\n",
    "robot.secret = ''\n",
    "robot.url = robot.get_url()\n",
    "robot.send_msg( '\\n'.join(empty) )"
   ]
  },
  {
   "cell_type": "markdown",
   "metadata": {},
   "source": [
    "# 派发明细"
   ]
  },
  {
   "cell_type": "code",
   "execution_count": null,
   "metadata": {},
   "outputs": [],
   "source": []
  }
 ],
 "metadata": {
  "kernelspec": {
   "display_name": "Python 3",
   "language": "python",
   "name": "python3"
  },
  "language_info": {
   "codemirror_mode": {
    "name": "ipython",
    "version": 3
   },
   "file_extension": ".py",
   "mimetype": "text/x-python",
   "name": "python",
   "nbconvert_exporter": "python",
   "pygments_lexer": "ipython3",
   "version": "3.8.3"
  }
 },
 "nbformat": 4,
 "nbformat_minor": 4
}
